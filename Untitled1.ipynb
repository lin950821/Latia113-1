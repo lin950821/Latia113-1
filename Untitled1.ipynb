{
  "nbformat": 4,
  "nbformat_minor": 0,
  "metadata": {
    "colab": {
      "provenance": []
    },
    "kernelspec": {
      "name": "python3",
      "display_name": "Python 3"
    },
    "language_info": {
      "name": "python"
    }
  },
  "cells": [
    {
      "cell_type": "code",
      "source": [
        "a=input('請輸入數字')\n",
        "b=input('請輸入數字')"
      ],
      "metadata": {
        "colab": {
          "base_uri": "https://localhost:8080/"
        },
        "id": "409G2adwprMu",
        "outputId": "32ca516c-a8b3-475d-d75b-1d152b1dd363"
      },
      "execution_count": 22,
      "outputs": [
        {
          "name": "stdout",
          "output_type": "stream",
          "text": [
            "請輸入數字2\n",
            "請輸入數字5\n"
          ]
        }
      ]
    },
    {
      "cell_type": "code",
      "source": [
        "if a>b:\n",
        "  print(\"a>b\")\n",
        "elif a==b:\n",
        "  print(\"a==b\")\n",
        "else:\n",
        "  print(\"a<b\")"
      ],
      "metadata": {
        "colab": {
          "base_uri": "https://localhost:8080/"
        },
        "id": "_dV2Fw8gqDpi",
        "outputId": "14d443b8-1aad-4512-f1b8-a3f2ee22fae1"
      },
      "execution_count": 26,
      "outputs": [
        {
          "output_type": "stream",
          "name": "stdout",
          "text": [
            "a<b\n"
          ]
        }
      ]
    },
    {
      "cell_type": "code",
      "execution_count": 30,
      "metadata": {
        "colab": {
          "base_uri": "https://localhost:8080/"
        },
        "collapsed": true,
        "id": "NiD_LnM4mwof",
        "outputId": "62fd0a48-cc1d-4d10-a70f-bfbf1ed621fb"
      },
      "outputs": [
        {
          "output_type": "stream",
          "name": "stdout",
          "text": [
            "x 1\n",
            "x 2\n",
            "x 3\n",
            "y 1\n",
            "y 2\n",
            "y 3\n",
            "z 1\n",
            "z 2\n",
            "z 3\n"
          ]
        }
      ],
      "source": [
        "for a in ['x','y','z']:\n",
        " for b in [1,2,3]:\n",
        "  print(a,b)"
      ]
    }
  ]
}